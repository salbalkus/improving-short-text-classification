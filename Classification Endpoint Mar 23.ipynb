{
 "cells": [
  {
   "cell_type": "code",
   "execution_count": 2,
   "id": "b36e38d1",
   "metadata": {},
   "outputs": [
    {
     "data": {
      "text/plain": [
       "True"
      ]
     },
     "execution_count": 2,
     "metadata": {},
     "output_type": "execute_result"
    }
   ],
   "source": [
    "from icego import *\n",
    "import os\n",
    "import boto3\n",
    "import pandas as pd\n",
    "import openai\n",
    "from dotenv import load_dotenv\n",
    "from time import time\n",
    "\n",
    "# Need an OpenAI API key in a .env file to call GPT-3\n",
    "env_path = r'.env'\n",
    "dotenv_path = Path(env_path)\n",
    "load_dotenv(dotenv_path=dotenv_path)\n",
    "#openai.api_key = os.environ[\"OPENAI_API_KEY\"]"
   ]
  },
  {
   "cell_type": "code",
   "execution_count": null,
   "id": "c65751e3",
   "metadata": {},
   "outputs": [],
   "source": [
    "import pickle\n",
    "\n",
    "class GPT3Classifier():\n",
    "    def __init__(self, file, max_examples=5, temperature=0, search_model=\"ada\", model=\"ada\"):\n",
    "        self.file = file\n",
    "        self.max_examples = max_examples\n",
    "        self.temperature = temperature\n",
    "        self.search_model = search_model\n",
    "        self.model = model\n",
    "        \n",
    "\n",
    "    def predict(self, text):\n",
    "        output = openai.Classification.create(\n",
    "            file=self.file,\n",
    "            query=text,\n",
    "            search_model=self.search_model, \n",
    "            model=self.model, \n",
    "            max_examples=self.max_examples,\n",
    "            temperature = self.temperature\n",
    "        )\n",
    "        return output\n",
    "    \n",
    "    def evaluate(self, X):\n",
    "        self.predictions = []\n",
    "        self.full_output = []\n",
    "        for val in X:\n",
    "            print(\"Evaluating: \" + val)\n",
    "            \n",
    "            # Sometimes the search may not find any similar documents.\n",
    "            # If this is the case, we skip it\n",
    "            result = None\n",
    "            try:\n",
    "                result = self.predict(val)\n",
    "            except:\n",
    "                print(\"Could not classify: \" + val)\n",
    "                self.full_output.append(None)\n",
    "                self.predictions.append('Unknown')\n",
    "                continue\n",
    "            self.full_output.append(result)\n",
    "            self.predictions.append(result['label'])\n",
    "        return self.predictions\n",
    "    \n",
    "    def accuracy(self, true):\n",
    "        return sum(pd.Series(true) == pd.Series(self.predictions)) / len(self.predictions)\n",
    "    \n",
    "    def save(self, path):\n",
    "        pickle_out = open(path, \"wb\")\n",
    "        pickle.dump(self, pickle_out)\n",
    "        pickle_out.close()\n",
    "        \n",
    "    \n",
    "    @staticmethod\n",
    "    def load(env, model):\n",
    "        \"\"\"\n",
    "        Load model from a pickle file\n",
    "        \"\"\"\n",
    "\n",
    "        # Load API Key\n",
    "        try:\n",
    "            dotenv_path = Path(env)\n",
    "            load_dotenv(dotenv_path=dotenv_path)\n",
    "            openai.api_key = os.environ[\"OPENAI_API_KEY\"]\n",
    "        except:\n",
    "            raise Exception(\"Please specify your OpenAI API key in a .env file as OPENAI_API_KEY=your_key, and provide in the \\\"path\\\" parameter\")\n",
    "        pickle_in = open(model, \"rb\")\n",
    "        return pickle.load(pickle_in)\n",
    "        "
   ]
  },
  {
   "cell_type": "code",
   "execution_count": null,
   "id": "91a4c973",
   "metadata": {},
   "outputs": [],
   "source": [
    "training = pd.read_csv(r\"research_data\\training(1).tsv\", sep=\"\\t\", index_col=0)\n",
    "validation = pd.read_csv(r\"research_data\\validation(2).tsv\", sep=\"\\t\", index_col=0)\n",
    "testing = pd.read_csv(r\"research_data\\testing(3).tsv\", sep=\"\\t\", index_col=0)\n",
    "\n",
    "# Train-test split\n",
    "X_train = training[\"question\"]\n",
    "y_train = training[\"label\"]\n",
    "\n",
    "X_val = validation[\"question\"]\n",
    "y_val = validation[\"label\"]\n",
    "\n",
    "X_test = testing[\"question\"]\n",
    "y_test = testing[\"label\"]"
   ]
  },
  {
   "cell_type": "code",
   "execution_count": null,
   "id": "f1450339",
   "metadata": {},
   "outputs": [],
   "source": [
    "# Hyperparameter optimization parameters using grid search\n",
    "examples = np.array(list(range(1,6))) * 5\n",
    "temperatures = [0, 0.1, 0.5]\n",
    "\n",
    "def grid_search(file, X_test, y_test, examples, temperatures):\n",
    "    times = []\n",
    "    accuracies = []\n",
    "\n",
    "    for example in examples:\n",
    "        times_ex = []\n",
    "        accuracies_ex = []\n",
    "        for temperature in temperatures:\n",
    "            print(\"({}, {})\".format(temperature, example))\n",
    "            model25 = GPT3Classifier(file, max_examples=int(example), temperature=temperature)\n",
    "            start = time()\n",
    "            model25.evaluate(X_test)\n",
    "            time_taken = time() - start\n",
    "            acc = model25.accuracy(y_test)\n",
    "\n",
    "            times_ex.append(time_taken)\n",
    "            accuracies_ex.append(acc)\n",
    "\n",
    "        times.append(times_ex)\n",
    "        accuracies.append(accuracies_ex)\n",
    "        \n",
    "    return pd.DataFrame(accuracies, columns=temperatures, index=examples), pd.DataFrame(times, columns=temperatures, index=examples)"
   ]
  },
  {
   "cell_type": "code",
   "execution_count": null,
   "id": "adf2540f",
   "metadata": {},
   "outputs": [],
   "source": [
    "# Default train set\n",
    "acc26, time26 = grid_search('file-S0NVQFrb3YIQIXyREilOSBEr', X_val, y_val, examples, temperatures)\n",
    "acc26.to_csv(r'saved_models\\classifier_acc26_mar23.csv')\n",
    "time26.to_csv(r'saved_models\\classifier_time26_mar23.csv')"
   ]
  },
  {
   "cell_type": "code",
   "execution_count": null,
   "id": "a3fe3715",
   "metadata": {},
   "outputs": [],
   "source": [
    "# With 10 examples added\n",
    "acc10, time10 = grid_search('file-WoFiSCiVC3d8MolIKIcNTqZn', X_val, y_val, examples, temperatures)\n",
    "acc10.to_csv(r'saved_models\\classifier_acc10_mar23.csv')\n",
    "time10.to_csv(r'saved_models\\classifier_time10_mar23.csv')"
   ]
  },
  {
   "cell_type": "code",
   "execution_count": null,
   "id": "b40cb550",
   "metadata": {},
   "outputs": [],
   "source": [
    "examples = examples.tolist()\n",
    "examples.append(50)"
   ]
  },
  {
   "cell_type": "code",
   "execution_count": null,
   "id": "ef94a020",
   "metadata": {},
   "outputs": [],
   "source": [
    "acc100, time100 = grid_search('file-ZwBnMRiuBcIaCis3EM8hXIci', X_val, y_val, examples, temperatures)\n",
    "acc100.to_csv(r'saved_models\\classifier_acc100_mar23.csv')\n",
    "time100.to_csv(r'saved_models\\classifier_time100_mar23.csv')"
   ]
  },
  {
   "cell_type": "code",
   "execution_count": null,
   "id": "d5d850d0",
   "metadata": {},
   "outputs": [],
   "source": [
    "examples.append(100)"
   ]
  },
  {
   "cell_type": "code",
   "execution_count": null,
   "id": "156feb84",
   "metadata": {},
   "outputs": [],
   "source": [
    "acc1000, time1000 = grid_search('file-J1c6lmpgebqHCIlPr42FGuD0', X_val, y_val, examples, temperatures)\n",
    "acc1000.to_csv(r'saved_models\\classifier_acc1000_mar23.csv')\n",
    "time1000.to_csv(r'saved_models\\classifier_time1000_mar23.csv')"
   ]
  },
  {
   "cell_type": "code",
   "execution_count": null,
   "id": "d6215093",
   "metadata": {},
   "outputs": [],
   "source": [
    "acc3302, time3302 = grid_search('file-ApLgz7aeTcjNXQH7M2KMqtFJ', X_val, y_val, examples, temperatures)\n",
    "acc3302.to_csv(r'saved_models\\classifier_acc3302_mar23.csv')\n",
    "time3302.to_csv(r'saved_models\\classifier_time3302_mar23.csv')"
   ]
  },
  {
   "cell_type": "code",
   "execution_count": null,
   "id": "e38efdbc",
   "metadata": {},
   "outputs": [],
   "source": [
    "best3302 = GPT3Classifier('file-ApLgz7aeTcjNXQH7M2KMqtFJ', max_examples=20, temperature=0)\n",
    "best3302.evaluate(X_test)\n",
    "best3302.save(r'saved_models\\best3302_mar23.p')"
   ]
  },
  {
   "cell_type": "code",
   "execution_count": null,
   "id": "4bcdfb8f",
   "metadata": {},
   "outputs": [],
   "source": [
    "pd.DataFrame({\"question\":X_test,\"true\":y_test, \"predicted\":best3302.predictions})"
   ]
  },
  {
   "cell_type": "code",
   "execution_count": null,
   "id": "08acd2f8",
   "metadata": {},
   "outputs": [],
   "source": [
    "best3302.accuracy(y_test)"
   ]
  },
  {
   "cell_type": "code",
   "execution_count": null,
   "id": "5c21b24b",
   "metadata": {},
   "outputs": [],
   "source": [
    "best1000 = GPT3Classifier('file-J1c6lmpgebqHCIlPr42FGuD0', max_examples=20, temperature=0)\n",
    "best1000.evaluate(X_test)\n",
    "best1000.save(r'saved_models\\best1000_mar23.p')"
   ]
  },
  {
   "cell_type": "code",
   "execution_count": null,
   "id": "ab42e4fa",
   "metadata": {},
   "outputs": [],
   "source": [
    "pd.DataFrame({\"question\":X_test,\"true\":y_test, \"predicted\":best1000.predictions})"
   ]
  },
  {
   "cell_type": "code",
   "execution_count": null,
   "id": "be589f16",
   "metadata": {},
   "outputs": [],
   "source": [
    "best1000.accuracy(y_test)"
   ]
  },
  {
   "cell_type": "code",
   "execution_count": null,
   "id": "f362f4f1",
   "metadata": {},
   "outputs": [],
   "source": [
    "best100 = GPT3Classifier('file-ZwBnMRiuBcIaCis3EM8hXIci', max_examples=15, temperature=0)\n",
    "best100.evaluate(X_test)\n",
    "best100.save(r'saved_models\\best100_mar23.p')"
   ]
  },
  {
   "cell_type": "code",
   "execution_count": null,
   "id": "5824e15c",
   "metadata": {},
   "outputs": [],
   "source": [
    "pd.DataFrame({\"question\":X_test,\"true\":y_test, \"predicted\":best100.predictions})"
   ]
  },
  {
   "cell_type": "code",
   "execution_count": null,
   "id": "f344e44c",
   "metadata": {},
   "outputs": [],
   "source": [
    "best100.accuracy(y_test)"
   ]
  },
  {
   "cell_type": "code",
   "execution_count": null,
   "id": "99c9c8c5",
   "metadata": {},
   "outputs": [],
   "source": [
    "best10 = GPT3Classifier('file-WoFiSCiVC3d8MolIKIcNTqZn', max_examples=5, temperature=0.1)\n",
    "best10.evaluate(X_test)\n",
    "best10.save(r'saved_models\\best10_mar23.p')"
   ]
  },
  {
   "cell_type": "code",
   "execution_count": null,
   "id": "7479f1cc",
   "metadata": {},
   "outputs": [],
   "source": [
    "pd.DataFrame({\"question\":X_test,\"true\":y_test, \"predicted\":best10.predictions})"
   ]
  },
  {
   "cell_type": "code",
   "execution_count": null,
   "id": "7f3a5f2b",
   "metadata": {},
   "outputs": [],
   "source": [
    "best10.accuracy(y_test)"
   ]
  },
  {
   "cell_type": "code",
   "execution_count": null,
   "id": "42870bd8",
   "metadata": {},
   "outputs": [],
   "source": [
    "best26 = GPT3Classifier('file-S0NVQFrb3YIQIXyREilOSBEr', max_examples=15, temperature=0.5)\n",
    "best26.evaluate(X_test)\n",
    "best26.save(r'saved_models\\best26_mar23.p')"
   ]
  },
  {
   "cell_type": "code",
   "execution_count": null,
   "id": "d4c178e4",
   "metadata": {},
   "outputs": [],
   "source": [
    "pd.DataFrame({\"question\":X_test,\"true\":y_test, \"predicted\":best26.predictions})"
   ]
  },
  {
   "cell_type": "code",
   "execution_count": null,
   "id": "e5f0fda5",
   "metadata": {},
   "outputs": [],
   "source": [
    "best26.accuracy(y_test)"
   ]
  },
  {
   "cell_type": "code",
   "execution_count": null,
   "id": "7bdfc443",
   "metadata": {},
   "outputs": [],
   "source": [
    "naive26 = GPT3Classifier('file-S0NVQFrb3YIQIXyREilOSBEr', max_examples=5, temperature=0)\n",
    "naive26.evaluate(X_test)\n",
    "naive26.save(r'saved_models\\naive26_mar23.p')"
   ]
  },
  {
   "cell_type": "code",
   "execution_count": null,
   "id": "67a8b001",
   "metadata": {},
   "outputs": [],
   "source": [
    "naive26.accuracy(y_test)"
   ]
  },
  {
   "cell_type": "code",
   "execution_count": null,
   "id": "8b357b91",
   "metadata": {},
   "outputs": [],
   "source": [
    "pd.read_csv(r\"saved_models/classifier_time0_0_mar28.csv\")"
   ]
  },
  {
   "cell_type": "code",
   "execution_count": null,
   "id": "ce86e693",
   "metadata": {},
   "outputs": [],
   "source": []
  }
 ],
 "metadata": {
  "kernelspec": {
   "display_name": "Python 3 (ipykernel)",
   "language": "python",
   "name": "python3"
  },
  "language_info": {
   "codemirror_mode": {
    "name": "ipython",
    "version": 3
   },
   "file_extension": ".py",
   "mimetype": "text/x-python",
   "name": "python",
   "nbconvert_exporter": "python",
   "pygments_lexer": "ipython3",
   "version": "3.8.5"
  }
 },
 "nbformat": 4,
 "nbformat_minor": 5
}
