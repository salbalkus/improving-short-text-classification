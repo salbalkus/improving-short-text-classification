{
 "cells": [
  {
   "cell_type": "code",
   "execution_count": 1,
   "id": "6dff72e2",
   "metadata": {},
   "outputs": [
    {
     "name": "stderr",
     "output_type": "stream",
     "text": [
      "Neither PyTorch nor TensorFlow >= 2.0 have been found.Models won't be available and only tokenizers, configurationand file/data utilities can be used.\n"
     ]
    }
   ],
   "source": [
    "from icego import *\n",
    "import os\n",
    "import boto3\n",
    "import pandas as pd\n",
    "import openai\n",
    "from dotenv import load_dotenv"
   ]
  },
  {
   "cell_type": "code",
   "execution_count": 2,
   "id": "12097763",
   "metadata": {},
   "outputs": [],
   "source": [
    "# Read in and clean the data\n",
    "df = pd.read_csv(r\"research_data\\data.tsv\", sep=\"\\t\").reset_index(drop=True)\n",
    "questions = df[df.Question].reset_index(drop=True).drop([\"User\", \"Time\", \"Question\"], axis = 1)\n",
    "\n",
    "ds_qs = questions[questions.Pos_Rating > questions.Neg_Rating].reset_index(drop=True).Message\n",
    "other_qs = questions[questions.Pos_Rating < questions.Neg_Rating].reset_index(drop=True).Message\n",
    "ans = df[df.Question].reset_index(drop=True).drop([\"User\", \"Time\", \"Question\"], axis = 1)"
   ]
  },
  {
   "cell_type": "code",
   "execution_count": 3,
   "id": "554cfc1c",
   "metadata": {},
   "outputs": [],
   "source": [
    "# Let's create some artificial questions to supplement our small dataset\n",
    "# What should questions about data science cover?\n",
    "# Programming languages: Python, R, Julia, Matlab\n",
    "# Data visualization: Plotly, matplotlib, Tableau, PowerBI, \n",
    "# Machine Learning: sci-kit learn, sklearn, Tensorflow, PyTorch, neural network, regression, classification\n",
    "# Data Engineering: cloud computing, Amazon Web Services, AWS, Microsoft Azure, Spark, Hadoop, SQL, NoSQL, database, pipeline, API, frontend, backend\n",
    "# Statistics: t-test, p-value, AB test, distribution\n",
    "\n",
    "ds_qs_artificial = pd.Series([\n",
    "    \"Which programming language do you prefer: Python, R, Julia, or Matlab?\",\n",
    "    \"Should I use Plotly or matplotlib for visualization?\",\n",
    "    \"What is the best way to learn Tableau and PowerBI?\",\n",
    "    \"I need to train a regression and a classification model. Can this be done in sci-kit learn?\",\n",
    "    \"Neural networks can be programmed in both Tensorflow and PyTorch, true or false?\",\n",
    "    \"How do I create an SQL database in Azure?\",\n",
    "    \"Is clustering an example of supervised or unsupervised learning?\",\n",
    "    \"Is it possible to set up an API in AWS?\",\n",
    "    \"Could you explain the difference between Spark and Hadoop?\",\n",
    "    \"If I perform a chi-squared test and obtain a p-value of 0.02, is that considered statistically significant?\",\n",
    "    \"Has anyone ever trained a transformer model for NLP?\"\n",
    "])\n",
    "\n",
    "other_qs_artificial = pd.Series([\n",
    "    \"What?\",\n",
    "    \"Who went to the club meeting today?\",\n",
    "    \"Which programming language is preferable for embedded systems, C or C++?\",\n",
    "    \"Is Blender used for creating 3D graphics?\",\n",
    "    \"When he attached the wires, they made a spark. Does he need more training?\",\n",
    "    \"How many neurons are contained within the human nervous system?\",\n",
    "    \"The base of the model will be made in CAD - can you create this on your computer?\",\n",
    "    \"Where was the largest cluster of cases found this month?\",\n",
    "    \"Data Science?\",\n",
    "    \"ajskdl qwerjksd weknwf we wejirknwdfw?\",\n",
    "    \"R u ready to go?\",\n",
    "    \"Has anyone seen the original Transformers movie?\",\n",
    "    \"According to statistics is Michael Jordan the best basketball player ever?\",\n",
    "    \"The wise old oak tree helped you make a decision?\",\n",
    "    \"Did you know that just under half of all data science puns are below average?\",\n",
    "    \"A SQL query walks into a bar, goes up to two tables, and asks \\\"Can I join you?\\\"\",\n",
    "])\n",
    "\n",
    "X_val = [\n",
    "    \"Is the school open today?\",\n",
    "    \"When is the meeting time this semester?\",\n",
    "    \"What is the quantum Fourier transform\",\n",
    "    \"I tried to push to GitHub but I got a merge conflict error. How do I fix this problem?\",\n",
    "    \"Are you coming to Big Data Club tomorrow?\",\n",
    "    \"Will members get those stickers for free?\",\n",
    "    \"What data science books would recommend for understanding the basic principles?\",\n",
    "    \"Where can I access datasets like MNIST for image analysis?\",\n",
    "    \"Can someone help me understand how to SSH into the computing cluster on Friday?\",\n",
    "    \"Where can I find the link?\",\n",
    "    \"Which language should I use for matrix methods for data analysis\",\n",
    "    \"Does anyone have any classes they would recommend for me to take next semester\",\n",
    "    \"What is a Poisson distribution?\",\n",
    "    \"Here's my idea: we combine lookup table and machine learning model. Thoughts?\",\n",
    "    \"I've taken the class before, I really enjoyed it actually. Do you want me to send you the syllabus?\",\n",
    "    \"Could everyone send times when you are available before the start of the semester?\",\n",
    "    \"Here's a link on how to make custom Jupyter notebook themes. Big Data Club-themed notebooks, anyone?\",\n",
    "    \"What's the best way to get user input in Python?\",\n",
    "    \"Can you volunteer at the accepted students day @[redacted]?\",\n",
    "    \"Which logo won the design contest?\"\n",
    "]\n",
    "y_val = ['Other','Other','Data','Data','Other','Other','Data','Data','Data','Other', \"Data\",\"Other\",\"Data\",\"Data\", \"Other\",\"Other\",\"Data\",\"Data\", \"Other\", \"Other\"]"
   ]
  },
  {
   "cell_type": "code",
   "execution_count": 4,
   "id": "aa79d613",
   "metadata": {},
   "outputs": [],
   "source": [
    "# Divide each variable into training and testing individually\n",
    "ds_qs_artificial_train = ds_qs_artificial.sample(n=6)\n",
    "ds_qs_artificial_test = ds_qs_artificial.drop(ds_qs_artificial_train.index)\n",
    "other_qs_artificial_train = other_qs_artificial.sample(n=6)\n",
    "other_qs_artificial_test = other_qs_artificial.drop(other_qs_artificial_train.index)\n",
    "\n",
    "ds_qs_train = ds_qs.sample(n=7)\n",
    "ds_qs_test = ds_qs.drop(ds_qs_train.index)\n",
    "other_qs_train = other_qs.sample(n=7)\n",
    "other_qs_test = other_qs.drop(other_qs_train.index)\n",
    "\n",
    "# Set up training and testing sets\n",
    "X_train = pd.concat([ds_qs_train, ds_qs_artificial_train, other_qs_train, other_qs_artificial_train], ignore_index = True)\n",
    "X_test = pd.concat([ds_qs_test, ds_qs_artificial_test, other_qs_test, other_qs_artificial_test], ignore_index = True)\n",
    "\n",
    "y_train = pd.concat([pd.Series([\"Data\"]*ds_qs_train.size), pd.Series([\"Data\"]*ds_qs_artificial_train.size), pd.Series([\"Other\"]*other_qs_train.size), pd.Series([\"Other\"]*other_qs_artificial_train.size)], ignore_index=True)\n",
    "y_test = pd.concat([pd.Series([\"Data\"]*ds_qs_test.size), pd.Series([\"Data\"]*ds_qs_artificial_test.size), pd.Series([\"Other\"]*other_qs_test.size), pd.Series([\"Other\"]*other_qs_artificial_test.size)], ignore_index=True)\n",
    "\n",
    "# Shuffle the order of the train and test set\n",
    "shuffle_train = sample(list(X_train.index), len(X_train.index))\n",
    "shuffle_test = sample(list(X_test.index), len(X_test.index))\n",
    "\n",
    "X_train = X_train[shuffle_train]\n",
    "y_train = y_train[shuffle_train]\n",
    "X_test = X_test[shuffle_test]\n",
    "y_test = y_test[shuffle_test]"
   ]
  },
  {
   "cell_type": "code",
   "execution_count": 5,
   "id": "38adaa81",
   "metadata": {},
   "outputs": [
    {
     "name": "stdout",
     "output_type": "stream",
     "text": [
      "15 DS questions\n",
      "10 non-DS questions\n",
      "11 artificial DS questions\n",
      "16 artificial non-DS questions\n",
      "52 total questions\n"
     ]
    }
   ],
   "source": [
    "# Total Questions\n",
    "a = len(ds_qs)\n",
    "print(\"%d DS questions\"%(a))\n",
    "b = len(other_qs)\n",
    "print(\"%d non-DS questions\"%(b))\n",
    "c = len(ds_qs_artificial)\n",
    "print(\"%d artificial DS questions\"%(c))\n",
    "d = len(other_qs_artificial)\n",
    "print(\"%d artificial non-DS questions\"%(d))\n",
    "e = a + b + c + d\n",
    "print(\"%d total questions\"%(e))"
   ]
  },
  {
   "cell_type": "code",
   "execution_count": 7,
   "id": "0acefea6",
   "metadata": {},
   "outputs": [],
   "source": [
    "validation = pd.DataFrame({\"question\":X_test.reset_index(drop=True), \"label\":y_test.reset_index(drop=True)})\n",
    "validation.to_csv(r\"research_data\\validation(2).tsv\", sep=\"\\t\")"
   ]
  },
  {
   "cell_type": "code",
   "execution_count": 8,
   "id": "cdf2ec06",
   "metadata": {},
   "outputs": [],
   "source": [
    "testing = pd.DataFrame({\"question\":X_val, \"label\":y_val})\n",
    "testing.to_csv(r\"research_data\\testing(3).tsv\", sep=\"\\t\")"
   ]
  },
  {
   "cell_type": "code",
   "execution_count": 9,
   "id": "3f13bc1e",
   "metadata": {},
   "outputs": [],
   "source": [
    "training = pd.DataFrame({\"question\":X_train.reset_index(drop=True), \"label\":y_train.reset_index(drop=True)})\n",
    "training.to_csv(r\"research_data\\training(1).tsv\", sep=\"\\t\")"
   ]
  },
  {
   "cell_type": "code",
   "execution_count": null,
   "id": "4173ddd1",
   "metadata": {},
   "outputs": [],
   "source": []
  }
 ],
 "metadata": {
  "kernelspec": {
   "display_name": "Python 3 (ipykernel)",
   "language": "python",
   "name": "python3"
  },
  "language_info": {
   "codemirror_mode": {
    "name": "ipython",
    "version": 3
   },
   "file_extension": ".py",
   "mimetype": "text/x-python",
   "name": "python",
   "nbconvert_exporter": "python",
   "pygments_lexer": "ipython3",
   "version": "3.8.5"
  }
 },
 "nbformat": 4,
 "nbformat_minor": 5
}
